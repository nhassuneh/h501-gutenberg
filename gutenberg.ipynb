{
 "cells": [
  {
   "cell_type": "code",
   "execution_count": 1,
   "id": "9b1c8de1",
   "metadata": {},
   "outputs": [
    {
     "name": "stdout",
     "output_type": "stream",
     "text": [
      "\n",
      "# conda environments:\n",
      "#\n",
      "base                   C:\\Users\\Super\\miniconda3\n",
      "h501-gutenberg       * C:\\Users\\Super\\miniconda3\\envs\\h501-gutenberg\n",
      "myproject              C:\\Users\\Super\\miniconda3\\envs\\myproject\n",
      "\n"
     ]
    }
   ],
   "source": [
    "! conda env list"
   ]
  }
 ],
 "metadata": {
  "kernelspec": {
   "display_name": "Python (h501-gutenberg)",
   "language": "python",
   "name": "h501-gutenberg"
  },
  "language_info": {
   "codemirror_mode": {
    "name": "ipython",
    "version": 3
   },
   "file_extension": ".py",
   "mimetype": "text/x-python",
   "name": "python",
   "nbconvert_exporter": "python",
   "pygments_lexer": "ipython3",
   "version": "3.11.13"
  }
 },
 "nbformat": 4,
 "nbformat_minor": 5
}
